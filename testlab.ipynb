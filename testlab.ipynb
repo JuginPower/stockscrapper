{
 "cells": [
  {
   "cell_type": "code",
   "execution_count": 1,
   "id": "8c5b9d50-e640-4144-81ed-e80da858c71e",
   "metadata": {},
   "outputs": [],
   "source": [
    "from bs4 import BeautifulSoup\n",
    "import requests"
   ]
  },
  {
   "cell_type": "code",
   "execution_count": null,
   "id": "28cc7a99-0b2f-4e0a-9e31-64752ae809b3",
   "metadata": {},
   "outputs": [],
   "source": [
    "def download_data():\n",
    "\n",
    "        \"\"\"Return page source content from module requests or en errorstring.\"\"\"\n",
    "\n",
    "        error_string = \"\"\n",
    "        items = self._urlmodel.get_all_items(True)\n",
    "\n",
    "        for item in items:\n",
    "\n",
    "            try:\n",
    "                page_source = requests.get(item[0])\n",
    "            except requests.exceptions.RequestException as request_error:\n",
    "                error_string += str(request_error)\n",
    "                continue\n",
    "            else:\n",
    "                if not 200 <= page_source.status_code < 299:\n",
    "                    error_string += str(page_source.status_code)\n",
    "                    continue\n",
    "\n",
    "                content = page_source.content\n",
    "                return {\"source\": content, \"selector\": item[1]}\n",
    "\n",
    "        return error_string"
   ]
  },
  {
   "cell_type": "code",
   "execution_count": null,
   "id": "d473b984-6741-4604-a430-6209814b2a40",
   "metadata": {},
   "outputs": [],
   "source": [
    "class Downloader:\n",
    "    def __init__(self):\n",
    "        self._source = []\n",
    "        self._url = None\n",
    "    \n",
    "    def toDownload(self, url):\n",
    "        if isinstance(url, list):\n",
    "            for u ins url:\n",
    "                try:\n",
    "                    source = requests.get(u)\n",
    "                except requests.exceptions.RequestException as request_error:\n",
    "                    error_string += str(request_error)\n",
    "                    self._source.append(error_string)\n",
    "                else:\n",
    "                    self._source.append(source)\n",
    "        elif isinstance(url, str):\n",
    "            pass # Private Methode erstellen die das ^ vereinheitlicht\n",
    "\n",
    "        self._url = url\n",
    "\n",
    "    def setUrl(self, url):\n",
    "        self._url = url\n"
   ]
  }
 ],
 "metadata": {
  "kernelspec": {
   "display_name": "Python 3 (ipykernel)",
   "language": "python",
   "name": "python3"
  },
  "language_info": {
   "codemirror_mode": {
    "name": "ipython",
    "version": 3
   },
   "file_extension": ".py",
   "mimetype": "text/x-python",
   "name": "python",
   "nbconvert_exporter": "python",
   "pygments_lexer": "ipython3",
   "version": "3.11.6"
  }
 },
 "nbformat": 4,
 "nbformat_minor": 5
}
